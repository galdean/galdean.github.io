{
  "nbformat": 4,
  "nbformat_minor": 0,
  "metadata": {
    "colab": {
      "name": "COMS3251_Lab2_(2).ipynb",
      "provenance": [],
      "collapsed_sections": [],
      "toc_visible": true
    },
    "kernelspec": {
      "name": "python3",
      "display_name": "Python 3"
    }
  },
  "cells": [
    {
      "cell_type": "markdown",
      "metadata": {
        "id": "QhBVDxSrIiE5",
        "colab_type": "text"
      },
      "source": [
        "# COMS 3251 CLA Lab 2\n",
        "### Due March 4th on Gradescope\n",
        "\n",
        "---\n",
        "\n",
        "[Ruby Galdean], [rag2193]"
      ]
    },
    {
      "cell_type": "markdown",
      "metadata": {
        "id": "vmxOLxmbT5zs",
        "colab_type": "text"
      },
      "source": [
        "# Problem 1: Robot Kinematics\n",
        "\n",
        "## Background\n",
        "\n",
        "An important class of robots is robot manipulators, which are modeled on human arms. It is natural to model their behaviors by deriving mappings between activity in their *joints* (e.g., your shoulder or elbow) and activity at their *end effector* (e.g., your hand). \n",
        "\n",
        "<img src=\"http://jakehlee.com/cla-s2020/RR_arm.png\" width=200>\n",
        "\n",
        "The robot above is called a **RR manipulator**. It has two *revolute joints* (hence the name \"RR\") that can rotate and move the attached *links* around; think your shoulder and elbow moving your upper arm and forearm around. The *base* of the arm is fixed, so the end effector has a maximum reach. In addition, the joints can only rotate in the plane, so the entire robot is a planar one.\n",
        "\n",
        "Let's denote the **joint angles**, both relative to the horizontal axis, with a vector $\\theta = (\\theta_1, \\theta_2)$. One question may ask \"given values for the joint angles, what is the end effector's $(x,y)$ position relative to the base?\" Unfortunately, the answer to this is given by a nonlinear function involving trigonometric terms, as you may expect. But the mapping between **velocities** is linear, given specific joint angles $\\theta$.\n",
        "\n",
        "$$ \n",
        "\\begin{bmatrix} \\dot x \\\\ \\dot y \\end{bmatrix} = J(\\theta) \\dot \\theta = \\begin{bmatrix} -l_1 \\sin\\theta_1 & -l_2 \\sin\\theta_2 \\\\ l_1 \\cos\\theta_1 & l_2 \\cos\\theta_2 \\end{bmatrix} \\begin{bmatrix} \\dot \\theta_1 \\\\ \\dot \\theta_2 \\end{bmatrix}\n",
        "$$\n",
        "\n",
        "*(equation 1)*\n",
        "\n",
        "The dot notation is shorthand for time derivative; for example, $\\dot\\theta_1 =\\frac{d}{dt} \\theta_1$, denoting the angular velocity of the first joint (how fast it's spinning). Same for $\\dot\\theta_2$, while $\\dot x$ and $\\dot y$ tell us the horizontal and vertical velocities of the end effector. The matrix $J$ mapping between these two sets of velocities is called the **Jacobian**, and as you can see it changes depending on the values of the joint angles. This should make sense, since a bent robot arm would have different capabilities from one that is straightened out. Finally, the constants $l_1$ and $l_2$ are the lengths of each of the arm links."
      ]
    },
    {
      "cell_type": "markdown",
      "metadata": {
        "id": "OSlS-wz_gi0S",
        "colab_type": "text"
      },
      "source": [
        "## Provided Code (run this first!)\n",
        "\n",
        "The code block below provides the functions that you'll be using to understand the behavior of this robot. \n",
        "\n",
        "The first function, `RR_position`, returns the $(x,y)$ position of the end effector, relative to the base, given the joint angles $\\theta$. \n",
        "\n",
        "The second function, `RR_jacobian`, returns the Jacobian matrix $J$ given $\\theta$. \n",
        "\n",
        "The third function, `draw_RR`, plots a simple rendering of the RR arm given $\\theta$. \n",
        "\n",
        "We will assume for simplicity in this assignment that link lengths are all 1 m."
      ]
    },
    {
      "cell_type": "code",
      "metadata": {
        "id": "8KZj6DrKhREj",
        "colab_type": "code",
        "colab": {}
      },
      "source": [
        "### THIS NEEDS TO BE RUN FIRST, DO NOT MODIFY###\n",
        "\n",
        "import numpy as np\n",
        "import matplotlib.pyplot as plt\n",
        "\n",
        "l1 = 1\n",
        "l2 = 1\n",
        "\n",
        "def RR_position(theta1, theta2):\n",
        "  return np.array([[l1*np.cos(theta1) + l2*np.cos(theta2)],\n",
        "                   [l1*np.sin(theta1) + l2*np.sin(theta2)]])\n",
        "\n",
        "def RR_jacobian(theta1, theta2):\n",
        "  return np.array([[-l1*np.sin(theta1), -l2*np.sin(theta2)],\n",
        "                   [l1*np.cos(theta1), l2*np.cos(theta2)]])\n",
        "  \n",
        "def draw_RR(theta1, theta2):\n",
        "  plt.plot([0, l1*np.cos(theta1), l1*np.cos(theta1) + l2*np.cos(theta2)],\n",
        "           [0, l1*np.sin(theta1), l1*np.sin(theta1) + l2*np.sin(theta2)])\n",
        "  plt.scatter([0, l1*np.cos(theta1)], [0, l1*np.sin(theta1)], zorder=3, s=50)\n",
        "  plt.scatter([l1*np.cos(theta1) + l2*np.cos(theta2)], \n",
        "              [l1*np.sin(theta1) + l2*np.sin(theta2)], \n",
        "              marker='X', zorder=3, s=100)\n",
        "  plt.grid()\n",
        "  plt.axis('scaled')\n",
        "  plt.xlim([-2.5,2.5])\n",
        "  plt.ylim([-2.5,2.5])"
      ],
      "execution_count": 0,
      "outputs": []
    },
    {
      "cell_type": "markdown",
      "metadata": {
        "id": "u8aNDrqfd5gM",
        "colab_type": "text"
      },
      "source": [
        "## PART 1 (15 pts)\n",
        "\n",
        "Let's first try to get an interpretation of the Jacobian matrix. \n",
        "\n",
        "**(a)** Complete the draw_RR_velocity() function below that will compute the end effector velocity for given joint angles and velocities using equation 1. It should then use [matplotlib's plt.arrow()](https://matplotlib.org/3.1.1/gallery/text_labels_and_annotations/arrow_simple_demo.html) to plot the end effector velocity as an arrow at the end effector. The base of the arrow should be the end effector position, and the $(dx,dy)$ arguments should be the velocity itself. \n",
        "\n",
        "**(b)** After you have finished writing this function, overlay the results of two different joint velocity inputs on top of the manipulator. We are interested in the unit joint velocities $\\dot\\theta = (1,0)$ and $\\dot\\theta = (0,1)$ at the robot joint configuration $\\theta = (\\frac\\pi6, \\frac\\pi3)$. First call the `draw_RR` function above to plot the robot arm. Then sequentially call your `draw_RR_velocity` function twice, once with each velocity input, to overlay the arrows on top. You should get a plot similar to the following (but with the arm in the different $\\theta$ configuration given above): \n",
        "\n",
        "<img src=\"http://jakehlee.com/cla-s2020/sample_plot.png\" width=200>"
      ]
    },
    {
      "cell_type": "code",
      "metadata": {
        "id": "yox-ChezxLmt",
        "colab_type": "code",
        "outputId": "e9dc87b2-da45-4dcf-9fda-f3ca5cde1679",
        "colab": {
          "base_uri": "https://localhost:8080/",
          "height": 265
        }
      },
      "source": [
        "def draw_RR_velocity(theta1, theta2, theta1dot, theta2dot):\n",
        "  ### (a) COMPLETE THE FUNCTION FOLLOWING THE DESCRIPTION ABOVE ###\n",
        "  position = RR_position(theta1, theta2)\n",
        "  thetadot = np.array([[theta1dot],\n",
        "                       [theta2dot]])\n",
        "  handsVelocity = np.dot(RR_jacobian(theta1, theta2), thetadot)\n",
        "  plt.arrow(position[0, 0], position[1 ,0], handsVelocity[0,0], handsVelocity[1,0], head_width=0.2, head_length=0.16, fc='k', ec='k')\n",
        "  \n",
        "  # don't return anything.\n",
        "\n",
        "### DO NOT MODIFY ###\n",
        "theta1 = np.pi/6\n",
        "theta2 = np.pi/3\n",
        "### DO NOT MODIFY ###\n",
        "\n",
        "### (b) WRITE YOUR CODE HERE TO OBTAIN THE PLOT DESCRIBED ABOVE ###\n",
        "\n",
        "draw_RR(theta1, theta2)\n",
        "\n",
        "draw_RR_velocity(theta1, theta2, 1, 0)\n",
        "draw_RR_velocity(theta1, theta2, 0, 1)"
      ],
      "execution_count": 296,
      "outputs": [
        {
          "output_type": "display_data",
          "data": {
            "image/png": "[encoded data removed]",
            "text/plain": [
              "<Figure size 432x288 with 1 Axes>"
            ]
          },
          "metadata": {
            "tags": [],
            "needs_background": "light"
          }
        }
      ]
    },
    {
      "cell_type": "markdown",
      "metadata": {
        "id": "Wdg7fyfn2CZ3",
        "colab_type": "text"
      },
      "source": [
        "**(c)** Briefly answer the questions (no more than a few sentences each) in the text box below.\n",
        "\n",
        "1.   How does each column of the Jacobian contribute to the overall end effector velocity vector? *(hint: compare the direction of the first velocity vector with the first link of the arm and the direction of the second velocity vector with the second link)*\n",
        "2.   What subspace derived from the Jacobian matrix can the vectors serve as a basis for and why? *(hint: in this instance, it is equivalent to $\\mathbb{R}^2$)*"
      ]
    },
    {
      "cell_type": "markdown",
      "metadata": {
        "id": "cPHnE_282s_1",
        "colab_type": "text"
      },
      "source": [
        "**(c)** ANSWERS GO HERE\n",
        "1. Each velocity component is perpendicular to it's corresponding arm angle\n",
        "2. The column space of the jacobian ."
      ]
    },
    {
      "cell_type": "markdown",
      "metadata": {
        "id": "IGjmJb-D8yKG",
        "colab_type": "text"
      },
      "source": [
        "**(d)** Use [np.linalg.matrix_rank()](https://docs.scipy.org/doc/numpy-1.14.0/reference/generated/numpy.linalg.matrix_rank.html) to find and print the rank of the Jacobian at the configuration given above. \n",
        "\n",
        "**(e)** Write a couple lines of code to solve the following. If we desire the end effector to move with a velocity of $(\\dot x,\\dot y)=(3,-2)$ (units are 1 m/s), find the necessary joint velocities $\\dot\\theta$ to achieve that. Reference *equation 1*."
      ]
    },
    {
      "cell_type": "code",
      "metadata": {
        "id": "w_nUyGyk9RfJ",
        "colab_type": "code",
        "outputId": "a46cf569-7c2a-4480-b394-4fc511b8d0fe",
        "colab": {
          "base_uri": "https://localhost:8080/",
          "height": 68
        }
      },
      "source": [
        "### DO NOT MODIFY ###\n",
        "theta1 = np.pi/6\n",
        "theta2 = np.pi/3\n",
        "J = RR_jacobian(theta1, theta2)\n",
        "### DO NOT MODIFY ###\n",
        "\n",
        "### DO NOT EDIT THE PRINT STATEMENTS, ONLY SET VARIABLES ###\n",
        "\n",
        "### (d) OBTAIN THE MATRIX RANK HERE ###\n",
        "rank = None\n",
        "rank = np.linalg.matrix_rank(J)\n",
        "print(\"The rank is:\", rank)\n",
        "\n",
        "### (e) OBTAIN THE JOINT VELOCITIES HERE ###\n",
        "\n",
        "joint_vel = None\n",
        "J_inverse = np.linalg.inv(J)\n",
        "effector_velocity = np.array([[3],\n",
        "                              [-2]])\n",
        "joint_vel = np.dot( J_inverse, effector_velocity)\n",
        "print(\"The joint velocities are:\", joint_vel)"
      ],
      "execution_count": 297,
      "outputs": [
        {
          "output_type": "stream",
          "text": [
            "The rank is: 2\n",
            "The joint velocities are: [[-0.46410162]\n",
            " [-3.19615242]]\n"
          ],
          "name": "stdout"
        }
      ]
    },
    {
      "cell_type": "markdown",
      "metadata": {
        "id": "L5yGVpyD35XS",
        "colab_type": "text"
      },
      "source": [
        "## PART 2 (15 pts)\n",
        "\n",
        "We saw above that the Jacobian is full rank at the specified $\\theta$ configuration, but that may not always be true. \n",
        "\n",
        "**(a)** Consider the configuration $\\theta = (\\frac\\pi4, \\frac\\pi4)$. Run the code you wrote above (`draw_RR` and `draw_RR_velocity`) with this configuration to show a picture of the robot arm and its velocity vectors for the two unit joint velocity inputs $(1,0)$ and $(0,1)$."
      ]
    },
    {
      "cell_type": "code",
      "metadata": {
        "id": "cV6LFT7GEebr",
        "colab_type": "code",
        "outputId": "2d10ffd9-3627-4d7d-9b61-c7741a0abc8c",
        "colab": {
          "base_uri": "https://localhost:8080/",
          "height": 265
        }
      },
      "source": [
        "### DO NOT MODIFY ###\n",
        "theta1 = np.pi/4\n",
        "theta2 = np.pi/4\n",
        "### DO NOT MODIFY ###\n",
        "\n",
        "### (a) WRITE YOUR CODE HERE TO OBTAIN THE PLOT DESCRIBED ABOVE ###\n",
        "draw_RR(theta1, theta2)\n",
        "\n",
        "draw_RR_velocity(theta1, theta2, 1, 0)\n",
        "draw_RR_velocity(theta1, theta2, 0, 1)\n"
      ],
      "execution_count": 298,
      "outputs": [
        {
          "output_type": "display_data",
          "data": {
            "image/png": "[encoded data removed]",
            "text/plain": [
              "<Figure size 432x288 with 1 Axes>"
            ]
          },
          "metadata": {
            "tags": [],
            "needs_background": "light"
          }
        }
      ]
    },
    {
      "cell_type": "markdown",
      "metadata": {
        "id": "QtFHsdlWGWj_",
        "colab_type": "text"
      },
      "source": [
        "**(b)** Given your observations above, describe the achievable end effector velocities by the arm in this joint configuration. Are the velocities linearly independent? "
      ]
    },
    {
      "cell_type": "markdown",
      "metadata": {
        "id": "RJSEWq4vG13y",
        "colab_type": "text"
      },
      "source": [
        "**(b)** My observation is that the two lines above rest at the same place, so they are not linearly independent because there there exists a coefficient which makes one velocity equal to another. "
      ]
    },
    {
      "cell_type": "markdown",
      "metadata": {
        "id": "Xub1gxrzG2dO",
        "colab_type": "text"
      },
      "source": [
        "**(c)** Use `matrix_rank` and [null_space](https://docs.scipy.org/doc/scipy/reference/generated/scipy.linalg.null_space.html) (under `scipy.linalg`) to find the rank and a basis for the null space of the Jacobian. Use the null space to propose two joint velocity vectors that map to zero end effector velocities, and verify that they are indeed null space vectors by multiplying each one by the Jacobian matrix. Print out each of these outputs sequentially in the code block below."
      ]
    },
    {
      "cell_type": "code",
      "metadata": {
        "id": "MbiDf9wcHU5l",
        "colab_type": "code",
        "outputId": "5f25637a-5428-4a65-aced-17d9658ebf7a",
        "colab": {
          "base_uri": "https://localhost:8080/",
          "height": 289
        }
      },
      "source": [
        "### DO NOT MODIFY ###\n",
        "import scipy.linalg\n",
        "theta1 = np.pi/4\n",
        "theta2 = np.pi/4\n",
        "J = RR_jacobian(theta1, theta2)\n",
        "### DO NOT MODIFY ###\n",
        "\n",
        "### (c) WRITE YOUR CODE HERE TO OBTAIN THE OUTPUTS DESCRIBED ABOVE ###\n",
        "### DO NOT EDIT THE PRINT STATEMENTS, ONLY SET VARIABLES ###\n",
        "rank = None\n",
        "rank = np.linalg.matrix_rank(J)\n",
        "print(\"The rank of the Jacobian is:\\n\", rank)\n",
        "\n",
        "null_space = None\n",
        "null_space = scipy.linalg.null_space(J)\n",
        "print(\"The null space of the Jacobian is:\\n\", null_space)\n",
        "\n",
        "first = None\n",
        "first = null_space\n",
        "second = None\n",
        "second = -1 * null_space\n",
        "print(\"Joint velocity vectors:\\n\", first, \"\\n\", second)\n",
        "first_multiply = None\n",
        "first_multiply = np.dot(J, first)\n",
        "print(\"First Jacobian multiply:\\n\", first_multiply)\n",
        "second_multiply = None\n",
        "second_multiply = np.dot (J, second)\n",
        "print(\"Second Jacobian multiply:\\n\", second_multiply)"
      ],
      "execution_count": 299,
      "outputs": [
        {
          "output_type": "stream",
          "text": [
            "The rank of the Jacobian is:\n",
            " 1\n",
            "The null space of the Jacobian is:\n",
            " [[-0.70710678]\n",
            " [ 0.70710678]]\n",
            "Joint velocity vectors:\n",
            " [[-0.70710678]\n",
            " [ 0.70710678]] \n",
            " [[ 0.70710678]\n",
            " [-0.70710678]]\n",
            "First Jacobian multiply:\n",
            " [[0.]\n",
            " [0.]]\n",
            "Second Jacobian multiply:\n",
            " [[0.]\n",
            " [0.]]\n"
          ],
          "name": "stdout"
        }
      ]
    },
    {
      "cell_type": "markdown",
      "metadata": {
        "id": "bpMb2TJSJCnd",
        "colab_type": "text"
      },
      "source": [
        "**(d)** Briefly answer the questions (no more than a few sentences each) in the text box below.\n",
        "\n",
        "1.   Describe what null space input velocities physically correspond to on the robot, and why they lead to zero net movement at the end effector. \n",
        "2.   Since the Jacobian is no longer full rank, it cannot be inverted. Describe the end effector velocities that have infinitely many joint velocity inputs, as well as the end effector velocities that are impossible to achieve at all.\n",
        "\n"
      ]
    },
    {
      "cell_type": "markdown",
      "metadata": {
        "id": "dFdHHgRWJ6wS",
        "colab_type": "text"
      },
      "source": [
        "**(d)** YOUR ANSWERS GO HERE\n",
        "1. null space input velocities correspond to how the arm moves around the joint at what speed and what direction. If there is movement in both directions that is equal, then it cancels out.\n",
        "2."
      ]
    },
    {
      "cell_type": "markdown",
      "metadata": {
        "id": "fCGtZmTkKHnM",
        "colab_type": "text"
      },
      "source": [
        "## PART 3 (15 pts)\n",
        "\n",
        "In addition to linear velocity, we often care about the angular velocity of the end effector as well. Let's denote the rate at which the end effector is spinning by $\\dot\\phi$. For the RR arm, we have a simple relationship between $\\dot\\phi$ and the joint angles: $\\dot\\phi = \\dot\\theta_2$, since the end effector is attached to the second link. This introduces a third equation and makes the Jacobian $3 \\times 2$: \n",
        "$$ \\begin{bmatrix} \\dot x \\\\ \\dot y \\\\ \\dot\\phi \\end{bmatrix} = J(\\theta) \\dot \\theta = \\begin{bmatrix} -l_1 \\sin\\theta_1 & -l_2 \\sin\\theta_2 \\\\ l_1 \\cos\\theta_1 & l_2 \\cos\\theta_2 \\\\ 0 & 1\\end{bmatrix} \\begin{bmatrix} \\dot \\theta_1 \\\\ \\dot \\theta_2 \\end{bmatrix}$$\n",
        "\n",
        "**(a)** Define this new Jacobian in code below and find its rank at the two $\\theta$ configurations given in Part 1 and Part 2. \n",
        "\n",
        "Part 1 $\\theta = (\\pi/6, \\pi/3)$\n",
        "\n",
        "Part 2 $\\theta = (\\pi/4, \\pi/4)$"
      ]
    },
    {
      "cell_type": "code",
      "metadata": {
        "id": "I_cNI_zpL3sW",
        "colab_type": "code",
        "outputId": "f2b81411-5573-4dfa-c4b3-1772a4f9d8a2",
        "colab": {
          "base_uri": "https://localhost:8080/",
          "height": 51
        }
      },
      "source": [
        "def jacobian_phi(theta1, theta2):\n",
        "  ### (a) COMPLETE THE FUNCTION TO RETURN THE NEW JACOBIAN ###\n",
        "  \n",
        "  J = None\n",
        "  J = np.array([[-l1*np.sin(theta1), -l2*np.sin(theta2)],\n",
        "                   [l1*np.cos(theta1), l2*np.cos(theta2)],\n",
        "                [0, 1]])\n",
        " \n",
        "  return J\n",
        "\n",
        "### (a) WRITE YOUR CODE HERE TO OBTAIN THE OUTPUTS DESCRIBED ABOVE ###\n",
        "### DO NOT EDIT THE PRINT STATEMENTS, ONLY SET VARIABLES ###\n",
        "J = jacobian_phi((np.pi/6), (np.pi/3))\n",
        "part1_rank = None\n",
        "part1_rank = np.linalg.matrix_rank(J)\n",
        "print(\"New Part 1 Jacobian rank:\", part1_rank)\n",
        "\n",
        "J = jacobian_phi((np.pi/4), (np.pi/4))\n",
        "part2_rank = None\n",
        "part2_rank = np.linalg.matrix_rank(J)\n",
        "print(\"New Part 2 Jacobian rank:\", part2_rank)\n",
        "\n"
      ],
      "execution_count": 300,
      "outputs": [
        {
          "output_type": "stream",
          "text": [
            "New Part 1 Jacobian rank: 2\n",
            "New Part 2 Jacobian rank: 2\n"
          ],
          "name": "stdout"
        }
      ]
    },
    {
      "cell_type": "markdown",
      "metadata": {
        "id": "EHMiv-FBM1cZ",
        "colab_type": "text"
      },
      "source": [
        "**(b)** Briefly answer the questions (no more than a few sentences each) in the text box below.\n",
        "\n",
        "1.   What is the null space of the Jacobian? Is it possible to achieve a zero end effector velocity given a nonzero joint velocity? \n",
        "2.   What is the column space of the Jacobian? Is it possible to achieve any arbitrary end effector velocity?"
      ]
    },
    {
      "cell_type": "markdown",
      "metadata": {
        "id": "s3LERbKjOorq",
        "colab_type": "text"
      },
      "source": [
        "**(b)** YOUR ANSWERS GO HERE\n",
        "1.Nullity is 0, meaning there is no possible way to achieve a zero end effector velocity with a nonzero joint velocity since the only solution to Jthetadot=0 is a zero vector.\n",
        " is the nullspace of the new Jacobian.\n",
        "2. The Col(J) are both columns of J."
      ]
    },
    {
      "cell_type": "markdown",
      "metadata": {
        "id": "lXcjzOsKOpEQ",
        "colab_type": "text"
      },
      "source": [
        "## PART 4 (15 pts)\n",
        "\n",
        "You should have seen above that although the robot itself hasn't changed, the properties of its behavior depend on what we are interested in learning about. Let's go back to worrying about the end effector's linear velocities only ($\\dot x$ and $\\dot y$), but now let's change the robot itself by adding a third joint and link, as shown below. \n",
        "\n",
        "<img src=\"http://jakehlee.com/cla-s2020/RRR_arm.png\" width=250>\n",
        "\n",
        "The Jacobian now becomes a $2 \\times 3$ matrix:\n",
        "$$ \\begin{bmatrix} \\dot x \\\\ \\dot y \\end{bmatrix} = J(\\theta) \\dot \\theta = \\begin{bmatrix} -l_1 \\sin\\theta_1 & -l_2 \\sin\\theta_2 & -l_3 \\sin\\theta_3 \\\\ l_1 \\cos\\theta_1 & l_2 \\cos\\theta_2 & l_3 \\cos\\theta_3 \\end{bmatrix} \\begin{bmatrix} \\dot\\theta_1 \\\\ \\dot\\theta_2 \\\\ \\dot\\theta_3 \\end{bmatrix}$$\n",
        "\n",
        "The code below redefines the functions from above to accommodate this new robot with three joint angles. "
      ]
    },
    {
      "cell_type": "code",
      "metadata": {
        "id": "SQnEObwk48ad",
        "colab_type": "code",
        "colab": {}
      },
      "source": [
        "### RUN THIS FIRST BEFORE MOVING ON TO THE LAST PART ###\n",
        "\n",
        "l1 = 1\n",
        "l2 = 1\n",
        "l3 = 1\n",
        "\n",
        "def RRR_position(theta1, theta2, theta3):\n",
        "  return np.array([[l1*np.cos(theta1) + l2*np.cos(theta2) + l3*np.cos(theta3)],\n",
        "                   [l1*np.sin(theta1) + l2*np.sin(theta2) + l3*np.sin(theta3)]])\n",
        "\n",
        "def RRR_jacobian(theta1, theta2, theta3):\n",
        "  return np.array([[-l1*np.sin(theta1), -l2*np.sin(theta2), -l3*np.sin(theta3)],\n",
        "                   [l1*np.cos(theta1), l2*np.cos(theta2), l3*np.cos(theta3)],])\n",
        "  \n",
        "def draw_RRR(theta1, theta2, theta3):\n",
        "  plt.plot([0, l1*np.cos(theta1), l1*np.cos(theta1) + l2*np.cos(theta2),\n",
        "            l1*np.cos(theta1) + l2*np.cos(theta2) + l3*np.cos(theta3)],\n",
        "           [0, l1*np.sin(theta1), l1*np.sin(theta1) + l2*np.sin(theta2),\n",
        "            l1*np.sin(theta1) + l2*np.sin(theta2) + l3*np.sin(theta3)])\n",
        "  \n",
        "  plt.scatter([0, l1*np.cos(theta1), l1*np.cos(theta1) + l2*np.cos(theta2)], \n",
        "              [0, l1*np.sin(theta1), l1*np.sin(theta1) + l2*np.sin(theta2)], \n",
        "              zorder=3, s=50)\n",
        "  plt.scatter([l1*np.cos(theta1) + l2*np.cos(theta2) + l3*np.cos(theta3)], \n",
        "              [l1*np.sin(theta1) + l2*np.sin(theta2) + l3*np.sin(theta3)], \n",
        "              marker='X', zorder=3, s=100)\n",
        "  plt.grid()\n",
        "  plt.axis('scaled')\n",
        "  plt.xlim([-3.5,3.5])\n",
        "  plt.ylim([-3.5,3.5])"
      ],
      "execution_count": 0,
      "outputs": []
    },
    {
      "cell_type": "markdown",
      "metadata": {
        "id": "1ABAO08GAFPO",
        "colab_type": "text"
      },
      "source": [
        "**(b)** Replicate the code you wrote in Part 1, but make sure the end effector velocity vectors are plotted in the right place, since the end effector position function is different. The `draw_RRR_velocity` function takes in six arguments, three joint angles and three joint velocities. \n",
        "\n",
        "**(c)** After you write this function, use it to draw the end effector velocities corresponding to the three unit joint velocities: $(1,0,0)$, $(0,1,0)$, and $(0,0,1)$. Place the arm in the configuration $\\theta = (\\frac\\pi6, \\frac\\pi4, \\frac\\pi3)$."
      ]
    },
    {
      "cell_type": "code",
      "metadata": {
        "id": "zPhrG4tsAbGK",
        "colab_type": "code",
        "outputId": "2447a8af-af6d-4b6f-95cd-dbbbe31ba654",
        "colab": {
          "base_uri": "https://localhost:8080/",
          "height": 265
        }
      },
      "source": [
        "def draw_RRR_velocity(theta1, theta2, theta3, theta1dot, theta2dot, theta3dot):\n",
        "  ### (b) COMPLETE THE FUNCTION FOLLOWING THE DESCRIPTION ABOVE ###\n",
        "  position = RRR_position(theta1, theta2, theta3)\n",
        "  thetadot = np.array([[theta1dot],\n",
        "                       [theta2dot],\n",
        "                       [theta3dot]])\n",
        "  handsVelocity = np.dot(RRR_jacobian(theta1, theta2, theta3), thetadot)\n",
        "  draw_RRR(theta1, theta2, theta3)\n",
        "  plt.arrow(position[0, 0], position[1 ,0], handsVelocity[0,0],  handsVelocity[1,0],  head_width=0.2, head_length=0.16, fc='k', ec='k')\n",
        "  # don't return anything.\n",
        "\n",
        "### DO NOT MODIFY ###\n",
        "theta1 = np.pi/6\n",
        "theta2 = np.pi/4\n",
        "theta3 = np.pi/3\n",
        "###\n",
        "\n",
        "### (c) WRITE YOUR CODE HERE TO OBTAIN THE PLOT DESCRIBED ABOVE ###\n",
        "draw_RRR_velocity(theta1, theta2, theta3, 1, 0, 0)\n",
        "draw_RRR_velocity(theta1, theta2, theta3, 0, 1, 0)\n",
        "draw_RRR_velocity(theta1, theta2, theta3, 0, 0, 1)\n"
      ],
      "execution_count": 302,
      "outputs": [
        {
          "output_type": "display_data",
          "data": {
            "image/png": "[encoded data removed]",
            "text/plain": [
              "<Figure size 432x288 with 1 Axes>"
            ]
          },
          "metadata": {
            "tags": [],
            "needs_background": "light"
          }
        }
      ]
    },
    {
      "cell_type": "markdown",
      "metadata": {
        "id": "HdsqbxuDDSUE",
        "colab_type": "text"
      },
      "source": [
        "**(d)** Are the three velocity vectors linearly independent? What space do they span; in other words, what is the new column space of $J$? Does the addition of the third joint fundamentally change the velocity capabilities of the robot manipulator?"
      ]
    },
    {
      "cell_type": "markdown",
      "metadata": {
        "id": "3pTlGDLxD5a6",
        "colab_type": "text"
      },
      "source": [
        "**(d)** YOUR ANSWERS GO HERE\n",
        "They are linearly independent. They span R^3.\n"
      ]
    },
    {
      "cell_type": "markdown",
      "metadata": {
        "id": "_7yEw5R7D5q2",
        "colab_type": "text"
      },
      "source": [
        "**(e)** Find the rank and a basis for the null space of the RRR Jacobian at three different joint configurations: $\\theta' = (\\frac\\pi6, \\frac\\pi4, \\frac\\pi3)$, $\\theta'' = (\\frac\\pi6, \\frac\\pi4, \\frac\\pi4)$, and $\\theta''' = (\\frac\\pi4, \\frac\\pi4, \\frac\\pi4)$. You can simply print these six quantities in sequence."
      ]
    },
    {
      "cell_type": "code",
      "metadata": {
        "id": "Jnlh0ySzE3Vh",
        "colab_type": "code",
        "outputId": "c488768e-1010-4fac-91b6-631f59b745dd",
        "colab": {
          "base_uri": "https://localhost:8080/",
          "height": 323
        }
      },
      "source": [
        "### (e) WRITE YOUR CODE HERE TO OBTAIN THE OUTPUTS DESCRIBED ABOVE ###\n",
        "### DO NOT EDIT THE PRINT STATEMENTS, ONLY SET VARIABLES ###\n",
        "import scipy\n",
        "from scipy import linalg, matrix\n",
        "\n",
        "prime_rank = np.linalg.matrix_rank(RRR_jacobian(theta1, theta2, theta3))\n",
        "print(\"Prime rank:\\n\", prime_rank)\n",
        "\n",
        "prime_null = scipy.linalg.null_space(RRR_jacobian(theta1, theta2, theta3))\n",
        "print(\"Prime null:\\n\", prime_null)\n",
        "\n",
        "pprime_rank =  np.linalg.matrix_rank(RRR_jacobian(theta1, theta2, theta2))\n",
        "print(\"PPrime rank:\\n\", pprime_rank)\n",
        "\n",
        "pprime_null = scipy.linalg.null_space(RRR_jacobian(theta1, theta2, theta2))\n",
        "print(\"PPrime null:\\n\", pprime_null)\n",
        "\n",
        "ppprime_rank =  np.linalg.matrix_rank(RRR_jacobian(theta2, theta2, theta2))\n",
        "print(\"PPPrime rank:\\n\", ppprime_rank)\n",
        "\n",
        "ppprime_null = scipy.linalg.null_space(RRR_jacobian(theta2, theta2, theta2))\n",
        "print(\"PPPrime null:\\n\", ppprime_null)"
      ],
      "execution_count": 303,
      "outputs": [
        {
          "output_type": "stream",
          "text": [
            "Prime rank:\n",
            " 2\n",
            "Prime null:\n",
            " [[ 0.41768125]\n",
            " [-0.80689822]\n",
            " [ 0.41768125]]\n",
            "PPrime rank:\n",
            " 2\n",
            "PPrime null:\n",
            " [[-8.03364928e-17]\n",
            " [-7.07106781e-01]\n",
            " [ 7.07106781e-01]]\n",
            "PPPrime rank:\n",
            " 1\n",
            "PPPrime null:\n",
            " [[ 0.81649658  0.        ]\n",
            " [-0.40824829 -0.70710678]\n",
            " [-0.40824829  0.70710678]]\n"
          ],
          "name": "stdout"
        }
      ]
    },
    {
      "cell_type": "markdown",
      "metadata": {
        "id": "zSraeYL5Faz0",
        "colab_type": "text"
      },
      "source": [
        "**(f)** Briefly answer the questions (no more than a few sentences each) in the text box below.\n",
        "\n",
        "1.   How does the rank of the RRR Jacobian at these different configurations compare to the rank of the RR Jacobian? Consider when it is full rank and when it loses rank.\n",
        "2.   Explain why the null space of the RRR Jacobian is always nontrivial, in contrast to the RR Jacobian. \n",
        "\n"
      ]
    },
    {
      "cell_type": "markdown",
      "metadata": {
        "id": "7zp_R69uFcmz",
        "colab_type": "text"
      },
      "source": [
        "**(f)** YOUR ANSWERS GO HERE\n",
        "1. Full rank for RRR occurs when one, two, or all three joint angles are the different. Three joint angles being the same loses rank. RR has full rank only if both joint velocities are different. \n",
        "2. Isn't RR square and invertible. RRR isn't invertible which would result in a non-trival nullspace."
      ]
    },
    {
      "cell_type": "markdown",
      "metadata": {
        "id": "c7UtRL9vJOF2",
        "colab_type": "text"
      },
      "source": [
        "# Problem 2: Shape Puzzle\n",
        "\n",
        "## Background\n",
        "\n",
        "In Lecture 2 (BV 2.1-2.2), you learned about linear functions. In Lecture 5 (LLM 1.8-1.9), you learned about linear transformations, specifically about **geometric linear transformations** of $\\mathbb{R}^2$. In this lab, we'll explore **geometric affine transformations**.\n",
        "\n",
        "The main difference of affine transformations from linear transformations is that it allows for translations, not just transformations around the origin. This makes intuitive sense if you consider that linear transformations are represented as $ax$, whereas affine transformations are represented as $ax+b$.\n",
        "\n",
        "Affine transformations in $\\mathbb R^2$ are represented as $3 \\times 3$ matrices, in contrast to the $2 \\times 2$ linear transformation matrices. Locations and displacments are represented as $3 \\times 1$ vectors instead of $2 \\times 1$, and are called **homogeneous coordinates**. We just add a $1$ in the third dimension, like this:\n",
        "\n",
        " $$\\begin{bmatrix}x \\\\ y \\\\ 1 \\end{bmatrix}$$\n",
        "\n",
        "The main insight here is that we are using 3-vectors (with one fixed value) to represent 2D objects! Let's actually see these transformations in action.\n",
        "\n"
      ]
    },
    {
      "cell_type": "markdown",
      "metadata": {
        "id": "NLH5vzVO_s_s",
        "colab_type": "text"
      },
      "source": [
        "## Definitions\n",
        "\n",
        "Let's first define the affine transformation matrices you will be using for this lab. Compare these with the linear transformation matrices that appeared in lecture as well as LLM 1.9. The linear ones now appear as $2 \\times 2$ submatrices in the upper-left block of the affine transformations.\n",
        "\n",
        "In the context of this lab, all units are in pixels, all scales are in percentages (1 = 100%), and all angles are in radians.\n",
        "\n",
        "<img src=https://upload.wikimedia.org/wikipedia/commons/2/2c/2D_affine_transformation_matrix.svg width=400>\n",
        "\n",
        "(shared under CC BY-SA 3.0 from [wikipedia](https://en.wikipedia.org/wiki/Transformation_matrix#Affine_transformations) )\n",
        "\n",
        "## Combining Affine Functions\n",
        "\n",
        "Analogous to linear functions, the composition of affine functions is itself an affine function. That is, given affine functions $f(x)$ and $g(x)$, $f(g(x))$ is also an affine function. This means that we can combine multiple affine transformation matrices into a single matrix before applying it to $\\mathbb{R}^2$.\n",
        "\n",
        "Since an affine transformation matrix $A$ is applied to a point $x$ as $Ax$, another such matrix $B$ can be applied again (say, rotation then translation) as $B(Ax)$. Since matrix multiplication is associative (Lecture 3, BV 10.1), we can also express this as $(BA)x$.\n",
        "\n",
        "In summary, if we want to apply transformation matrices $A$, $B$, then $C$ (in that order), we can calculate another affine transformation matrix $D = CBA$ that performs all three transformations, in order, at once. Note that matrix multiplication is not commutative, so order matters!\n",
        "\n",
        "## Coordinates in Computer Vision\n",
        "\n",
        "In computer vision, the origin is on the **TOP LEFT** of the image, and the positive y axis points **down**. Keep this in mind when determining your transformations.\n",
        "\n",
        "![alt text](https://software.intel.com/sites/landingpage/realsense/camera-sdk/v1.1/documentation/html/manuals_clip0138_zoom69.png)"
      ]
    },
    {
      "cell_type": "markdown",
      "metadata": {
        "id": "LT2vq5S0K77n",
        "colab_type": "text"
      },
      "source": [
        "## PART 1 (20 pts)\n",
        "\n",
        "You were given a template image `puzzle.png`. Given a square and circle, use affine transformation matrices to transform them to the positions shown in the template.\n",
        "\n",
        "**(a)** Fill in the provided functions to generate their respective affine transformation matrices (10 pts).\n",
        "\n",
        "There are **banned functions**. Using these functions will result in 0 points awarded.\n",
        "\n",
        "```\n",
        "cv2.getAffineTransform()\n",
        "cv2.getPerspectiveTransform()\n",
        "cv2.getRotationMatrix2D()\n",
        "cv2.resize()\n",
        "cv2.invertAffineTransform()\n",
        "```\n",
        "in addition, any other function from any library that generates an affine transformation matrix for you is banned. You must construct the matrices directly."
      ]
    },
    {
      "cell_type": "code",
      "metadata": {
        "id": "zp6PFcOQK1k4",
        "colab_type": "code",
        "outputId": "388eb039-10c8-4528-96aa-c2632fe54a2e",
        "colab": {
          "base_uri": "https://localhost:8080/",
          "height": 269
        }
      },
      "source": [
        "### THIS NEEDS TO BE RUN FIRST ###\n",
        "\n",
        "# UPLOAD YOUR puzzle.png\n",
        "# Click on the folder icon on the sidebar and click \"Upload\"\n",
        "# You will have to do this every time you start a new session\n",
        "# Alternatively, you could learn how to use \"Mount Drive\".\n",
        "%matplotlib inline\n",
        "import numpy as np              # numpy\n",
        "import cv2                      # opencv\n",
        "import math                     # math\n",
        "import matplotlib.pyplot as plt # matplotlib, only being used to display images\n",
        "\n",
        "#If your image was uploaded successfully, the template will be shown below\n",
        "template = cv2.imread('puzzle.png', cv2.IMREAD_UNCHANGED)\n",
        "if template is None:\n",
        "\tprint(\"ERROR: upload the image!\")\n",
        "plt.imshow(template)\n",
        "\n",
        "### UTILITY FUNCTIONS DO NOT MODIFY###\n",
        "\n",
        "def combine_layers(layers):\n",
        "\tlayer0 = layers[0]\n",
        "\tfor l in layers[1:]:\n",
        "\t\tlayer0[:,:,0] = (l[:,:,3] / 255) * l[:,:,0] + \\\n",
        "                        ((255 - l[:,:,3]) / 255) * layer0[:,:,0]\n",
        "\t\tlayer0[:,:,1] = (l[:,:,3] / 255) * l[:,:,1] + \\\n",
        "                        ((255 - l[:,:,3]) / 255) * layer0[:,:,1]\n",
        "\t\tlayer0[:,:,2] = (l[:,:,3] / 255) * l[:,:,2] + \\\n",
        "                        ((255 - l[:,:,3]) / 255) * layer0[:,:,2]\n",
        "\treturn layer0"
      ],
      "execution_count": 304,
      "outputs": [
        {
          "output_type": "display_data",
          "data": {
            "image/png": "[encoded data removed]",
            "text/plain": [
              "<Figure size 432x288 with 1 Axes>"
            ]
          },
          "metadata": {
            "tags": [],
            "needs_background": "light"
          }
        }
      ]
    },
    {
      "cell_type": "code",
      "metadata": {
        "id": "nDjJ3SSrYbyG",
        "colab_type": "code",
        "colab": {}
      },
      "source": [
        "### PART 1 ###\n",
        "# Fill in the functions below\n",
        "\n",
        "def get_translate(x, y):\n",
        "    \"\"\"Generate an affine translation matrix.\n",
        "\n",
        "    arguments:\n",
        "    x -- x-axis translation in pixels\n",
        "    y -- y-axis translation in pixels\n",
        "\n",
        "    returns:\n",
        "    A 3x3 numpy array of type 'np.float'\n",
        "    \"\"\"\n",
        "    ### YOUR CODE GOES HERE ###\n",
        "    trans_array = np.array([[1, 0, x],\n",
        "                            [0, 1, y],\n",
        "                            [0, 0, 1]]);\n",
        "    return trans_array;\n",
        " \n",
        "    # return np.zeros((3,3)).astype(np.float)\n",
        "\n",
        "def get_rotate(theta):\n",
        "    \"\"\"Generate an affine rotation matrix.\n",
        "\n",
        "    arguments:\n",
        "    theta -- rotation in radians\n",
        "\n",
        "    returns:\n",
        "    A 3x3 numpy array of type 'np.float'\n",
        "    \"\"\"\n",
        "    ### YOUR CODE GOES HERE ###\n",
        "    rot_array = np.array([[np.cos(theta), np.sin(theta), 0],\n",
        "                          [-(np.sin(theta)), np.cos(theta), 0],\n",
        "                          [0, 0, 1]]);\n",
        "    return rot_array;\n",
        "    \n",
        "    #return np.zeros((3,3)).astype(np.float)\n",
        "\n",
        "def get_shear(phi):\n",
        "    \"\"\"Generate an affine horizontal shear matrix.\n",
        "\n",
        "    arguments:\n",
        "    phi -- shear in radians\n",
        "\n",
        "    returns:\n",
        "    A 3x3 numpy array of type 'np.float'\n",
        "    \"\"\"\n",
        "    ### YOUR CODE GOES HERE ###\n",
        "    shear_array = np.array([[1, np.tan(phi), 0],\n",
        "                            [0, 1, 0],\n",
        "                            [0, 0, 1]]);\n",
        "    return shear_array;\n",
        "    \n",
        "    #return np.zeros((3,3)).astype(np.float)\n",
        "\n",
        "def get_scale(w):\n",
        "    \"\"\"Generate an affine horizontal scale matrix.\n",
        "\n",
        "    arguments:\n",
        "    w -- x-axis scale (1 = 100%)\n",
        "\n",
        "    returns:\n",
        "    A 3x3 numpy array of type 'np.float'\n",
        "    \"\"\"\n",
        "    ### YOUR CODE GOES HERE ###\n",
        "    scale_array = np.array([[w, 0, 0],\n",
        "                            [0, 1, 0],\n",
        "                            [0, 0, 1]]);\n",
        "    return scale_array;\n",
        "    \n",
        "    #return np.zeros((3,3)).astype(np.float)\n"
      ],
      "execution_count": 0,
      "outputs": []
    },
    {
      "cell_type": "markdown",
      "metadata": {
        "id": "OXTHub3pqNMW",
        "colab_type": "text"
      },
      "source": [
        "## PART 2 (20 pts)\n",
        "\n",
        "**(b)** Use the completed functions to form a **single** affine transformation matrix that will transform the shapes to match the template. The test function will draw your results in blue and red, with some transparency: If the results match exactly, there will be no visible white borders inside or outside the shape (20 pts for each shape).\n",
        "\n",
        "### Constraints\n",
        "\n",
        "To prevent this task from becoming manual unconstrained optimization in continuous space, we have discretized this problem as follows:\n",
        "\n",
        "* The canvas is 400 by 600 pixels\n",
        "* All **translation** was done in steps of 50 pixels\n",
        "* All **rotations** were done in steps of $\\pi / 4$\n",
        "* All **shears** were done in steps of $\\pi / 4$\n",
        "* All **scalings** were done in steps of $0.25$\n",
        "* Only **horizontal** shearing and stretching was used\n",
        "* The circle wasn't sheared\n",
        "\n",
        "### Hints\n",
        "\n",
        "* You should probably apply the translation matrix **last**. Since all transformations are done with respect to the origin, translating then rotating will result in unexpected results.\n",
        "* In computer vision, the origin is on the **TOP LEFT** of the image, and the positive x axis points **down**. Keep this in mind when determining your transformations.\n",
        "* It's probably easier to just start trying out some transformations to see what they look like before trying to solve the puzzle! Just running everything will give you the shapes without any transformations."
      ]
    },
    {
      "cell_type": "code",
      "metadata": {
        "id": "rGbR3PfpaOZ_",
        "colab_type": "code",
        "outputId": "5daa70df-020b-48ee-b539-dc144c3387fe",
        "colab": {
          "base_uri": "https://localhost:8080/",
          "height": 269
        }
      },
      "source": [
        "### PART 2 ###\n",
        "# (remember to run PART 1 first)\n",
        "\n",
        "def get_circle_transform():\n",
        "    \"\"\"Generate the final affine transformation matrix for the circle.\n",
        "\n",
        "    returns:\n",
        "    A 3x3 numpy array of type 'np.float'\n",
        "    \"\"\"\n",
        "    # return the final affine transformation matrix,\n",
        "    # which will be a combination of matrices returned by \n",
        "    # functions you defined above for part (a)\n",
        "    ### YOUR CODE GOES HERE ###\n",
        "\n",
        "    circ = np.dot( np.identity(3), get_rotate(7/4*(np.pi)) );\n",
        "    circ = np.dot( circ, get_scale(1.75) );\n",
        "    circ = np.dot( get_translate(350,100), circ);\n",
        "\n",
        "    return circ;\n",
        "\n",
        "def get_square_transform():\n",
        "    \"\"\"Generate the final affine transformation matrix for the square.\n",
        "\n",
        "    returns:\n",
        "    A 3x3 numpy array of type 'np.float'\n",
        "    \"\"\"\n",
        "\n",
        "    # return the final affine transformation matrix,\n",
        "    # which will be a combination of matrices returned by \n",
        "    # functions you defined above for part (a)\n",
        "    ### YOUR CODE GOES HERE ###\n",
        "\n",
        "    sqr = np.dot( np.identity(3), get_scale(1));\n",
        " #   sqr = np.dot(  get_rotate(-(1/4)*(np.pi)),sqr );\n",
        " #   sqr = np.dot(sqr, get_shear((3/4)*(np.pi)))\n",
        "    sqr = np.dot(  get_rotate(-(3/4)*(np.pi)),sqr );\n",
        "    sqr = np.dot(sqr, get_shear((5/4)*(np.pi)))\n",
        " #   sqr = np.dot( get_translate(100,250), sqr);\n",
        "    sqr = np.dot( get_translate(200,250), sqr);\n",
        "\n",
        "    return sqr;\n",
        "\n",
        "### TEST FUNCTIONS, DO NOT MODIFY ###\n",
        "\n",
        "def vis_transforms():\n",
        "    puzzle = template.copy()\n",
        "    circ_M = get_circle_transform()\n",
        "    sq_M = get_square_transform()\n",
        "\n",
        "    bg1 = np.zeros((400, 600, 4)).astype(np.float)\n",
        "    sq = cv2.rectangle(bg1, (0,0), (50,50), (0,0,255,175), -1)\n",
        "    sq_t = cv2.warpAffine(sq, sq_M[:2,:], (600, 400))\n",
        "\n",
        "    bg2 = np.zeros((400, 600, 4)).astype(np.float)\n",
        "    circ = cv2.circle(bg2, (30,30), 30, (255,0,0,175), -1)\n",
        "    circ_t = cv2.warpAffine(circ, circ_M[:2,:], (600, 400))\n",
        "\n",
        "    output = combine_layers([puzzle, sq_t, circ_t])\n",
        "\n",
        "    plt.imshow(output)\n",
        "\n",
        "vis_transforms()\n"
      ],
      "execution_count": 306,
      "outputs": [
        {
          "output_type": "display_data",
          "data": {
            "image/png": "[encoded data removed]",
            "text/plain": [
              "<Figure size 432x288 with 1 Axes>"
            ]
          },
          "metadata": {
            "tags": [],
            "needs_background": "light"
          }
        }
      ]
    }
  ]
}